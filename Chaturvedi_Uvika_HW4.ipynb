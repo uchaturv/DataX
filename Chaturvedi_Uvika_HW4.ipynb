{
 "cells": [
  {
   "cell_type": "markdown",
   "metadata": {},
   "source": [
    "![data-x](http://oi64.tinypic.com/o858n4.jpg)\n",
    "\n",
    "\n",
    "## Data-X (IEOR 290): HW 1\n",
    "\n",
    "### Uvika Chaturvedi\n",
    "\n",
    "#### SID: 3032162420\n",
    "___"
   ]
  },
  {
   "cell_type": "markdown",
   "metadata": {},
   "source": [
    "# Part 1 \"Real time\" data stream of stock prices\n",
    "\n",
    "In part 1 you are going to design your own \"real time\" (batch) stock price prediction and visualization application.\n",
    "\n",
    "\n",
    "\n",
    "# Q1:\n",
    "\n",
    "First we have a pre-written program for you (that you are welcome to modify - but it works as is). It fetches \"real time\" stock data from Google. The program is given to you as it covers some topics that we have not touched upon in class - like user defined input, defensive programming, opening a connection to a url, parsing json data to a dictionary, and writing to a CSV file.\n",
    "\n",
    "Your task is to run the program below and collect 100 data samples of stock prices for three user defined stocks. There should be an approximate time delay of ten seconds between the updates.\n",
    "\n",
    "**Note:** The data collection has to be done on a weekday between 9.30am - 4pm (Eastern time), in order for the stock prices to be volatile  - as this is the open trade window for NASDAQ. If you want to start Q2-Q5 before you have collected data, you can access a preliminary CSV file here: https://www.dropbox.com/s/bbf5v325byt3qr6/stock_data_example.csv?dl=1"
   ]
  },
  {
   "cell_type": "code",
   "execution_count": null,
   "metadata": {
    "collapsed": false,
    "scrolled": true
   },
   "outputs": [],
   "source": [
    "## Load packages\n",
    "import urllib2\n",
    "import datetime as dt\n",
    "import time\n",
    "import json\n",
    "import os.path\n",
    "import sys\n",
    "\n",
    "# NASDAQ STOCKS BASE URL\n",
    "base_url = 'http://finance.google.com/finance/info?client=ig&q=NASDAQ:' \n",
    "# Stock examples: AAPL, TSLA, GOOGL\n",
    "\n",
    "\n",
    "# Define number of stocks, total updates, and time between updates\n",
    "def assign(string):\n",
    "    ## Example of defensive programming, input must be positive integer\n",
    "    \n",
    "    while True:\n",
    "        try:\n",
    "            var = int(raw_input(string+': ')) # convert string input to integer\n",
    "        except:\n",
    "            print string + ' must be positive integer, try again'\n",
    "            continue\n",
    "        if var < 1:\n",
    "            print string + ' must be a positive integer, try again'\n",
    "            continue\n",
    "        break\n",
    "        \n",
    "    return var\n",
    "\n",
    "\n",
    "nbr_of_stocks = assign(\"Number of stocks\")\n",
    "nbr_of_updates = assign(\"Number of total stock updates\")\n",
    "update_time = assign(\"Approximate time delay (seconds) between updates\")\n",
    "\n",
    "\n",
    "# Define stock names (as stock ticker / stock symbol), store in dictionary\n",
    "stocks = dict()\n",
    "for i in range(nbr_of_stocks):\n",
    "    stock_key = 'stock'+str(i)\n",
    "    \n",
    "    # User input, define stock with a certain stock symbol e.g. GOOGL, TSLA, AAPL\n",
    "    stocks[stock_key] = raw_input(\"Stock\"+str(i+1)+\" Code: \") \n",
    "\n",
    "\n",
    "def get_stock_value(stock):\n",
    "    '''\n",
    "    Fetch stock value for stock ticker / stock symbol\n",
    "    '''\n",
    "    \n",
    "    url = base_url + stock # url to stock\n",
    "    \n",
    "    # Defensive programming. Raise error if stock symbol does not exist\n",
    "    try:\n",
    "        url_socket = urllib2.urlopen(url)\n",
    "    except:\n",
    "        print 'WRONG STOCK CODE \"' + stock + '\"'\n",
    "        sys.exit()\n",
    "    \n",
    "    data = url_socket.read() # read in the URL data as a string\n",
    "    \n",
    "    start_idx = data.find('{') # starting index of json part of the string\n",
    "    end_idx = data.find('}') # ending index of json part of the string\n",
    "    \n",
    "    info = json.loads(data[start_idx:end_idx+1]) #load json data to a dictionary\n",
    "    stock_price = info['l'] # stock prices are stored under key 'l'\n",
    "    \n",
    "    return stock_price\n",
    "\n",
    "\n",
    "# Create / Overwrite CSV file and add header\n",
    "f = open('stock_data.csv','wb')\n",
    "header = 'Time Stamp,'+','.join(stocks.values())\n",
    "\n",
    "f.write(header+'\\n') # write header to CSV file stock_data.csv, add new line\n",
    "\n",
    "\n",
    "def current_time_str():\n",
    "    '''\n",
    "    Get current time as a string: Format \"Year-Month-Date Hour:Minute:Second\"\n",
    "    '''\n",
    "    t = dt.datetime.now().strftime(\"%Y-%m-%d %H:%M:%S\")\n",
    "    return t\n",
    "\n",
    "\n",
    "print '\\n\\n\\nSTOCK PRICES (USD):\\n' # Print output, to see that script is running\n",
    "\n",
    "\n",
    "i=0\n",
    "while nbr_of_updates > i:\n",
    "    '''\n",
    "    Fetch stock info with given time interval and write to CSV\n",
    "    Store the values in a list\n",
    "    '''\n",
    "    \n",
    "    # store stock values in a list\n",
    "    vals = list()\n",
    "    for stock in stocks.values():\n",
    "        val = get_stock_value(stock)\n",
    "        vals.append(val)\n",
    "        \n",
    "        print stock, ':', val\n",
    "\n",
    "        \n",
    "    t = current_time_str() # current date and time as string\n",
    "    print 'Fetched at', t,'\\n'\n",
    "    \n",
    "    \n",
    "    # write time and stock values as a CSV on a seperate line\n",
    "    f.write(t+','+','.join(vals)+'\\n') \n",
    "    i+=1 # iterate\n",
    "    time.sleep(update_time) # time (in seconds) before the loop runs again\n",
    "\n",
    "\n",
    "f.close() # close file connection\n",
    "\n",
    "print '\\nDone!'"
   ]
  },
  {
   "cell_type": "markdown",
   "metadata": {
    "collapsed": true
   },
   "source": [
    "#### Part 1 (continued)\n",
    "# Q2: Simple stock statistics\n",
    "\n",
    "* 1: Read in the data stored in stock_data.csv to a DataFrame called **df**.\n",
    "\n",
    "\n",
    "* 2: Convert the 'Time Stamp' column to datetime objects, specifying the year, month, date, hour, minute, second in the format:\n",
    "\n",
    "    `%Y-%m-%d %H:%M:%S`\n",
    "    \n",
    "    Store the datetime objects as the index of **df** (hint: Lookup pandas DatetimeIndex) . Then, drop the 'Time Stamp' column.\n",
    "\n",
    "\n",
    "* 3: Calculate the OLHC for each stock (Open, Low, High, Close values). Note: Let Open time be the first time stamp in your data set and Closing time the last time stamp in your data set.\n",
    "\n",
    "\n",
    "* 4: Calculate the mean stock price for each stock, and it's standard deviation.\n",
    "\n",
    "\n",
    "* 5: Calculate the total change in price over the time period (Closing Value - Open Value)\n",
    "\n",
    "\n",
    "* 6: Create a variable called **t**, that is an array with every time stamp in seconds after the first stock data was collected. I.e.,\n",
    "\n",
    "    `t[0] = 0,.., t[99] = 10*100 + running time`. "
   ]
  },
  {
   "cell_type": "code",
   "execution_count": 1,
   "metadata": {
    "collapsed": false
   },
   "outputs": [
    {
     "name": "stdout",
     "output_type": "stream",
     "text": [
      "open time:\n",
      "AAPL     135.37\n",
      "GOOGL    840.63\n",
      "TSLA     273.00\n",
      "Name: 2017-02-16 09:36:31, dtype: float64\n",
      "close time:\n",
      "AAPL     135.33\n",
      "GOOGL    840.47\n",
      "TSLA     272.87\n",
      "Name: 2017-02-16 09:55:41, dtype: float64\n",
      "high:\n",
      "AAPL     135.46\n",
      "GOOGL    840.95\n",
      "TSLA     273.50\n",
      "dtype: float64\n",
      "low:\n",
      "AAPL     135.33\n",
      "GOOGL    840.39\n",
      "TSLA     272.48\n",
      "dtype: float64\n"
     ]
    }
   ],
   "source": [
    "import pandas as pd\n",
    "## Input answers here ##\n",
    "# Read in the data stored in stock_data.csv to a DataFrame called df.\n",
    "df = pd.read_csv('stock_data.csv')\n",
    "\n",
    "# Convert the 'Time Stamp' column to datetime objects, specifying the year, month, date, hour, minute, second in the format:\n",
    "df['Time Stamp'] = pd.to_datetime(df['Time Stamp'], format = '%Y-%m-%d %H:%M:%S')\n",
    "df.set_index('Time Stamp', inplace = True)\n",
    "\n",
    "# Calculate the OLHC for each stock (Open, Low, High, Close values). Note: Let Open time be the first time stamp in your data set and Closing time the last time stamp in your data set.\n",
    "open_time = df.ix[0]\n",
    "print \"open time:\\n\", open_time\n",
    "close_time = df.ix[len(df)-1]\n",
    "print \"close time:\\n\", close_time\n",
    "high  = df.max()\n",
    "print \"high:\\n\",high\n",
    "low = df.min()\n",
    "print \"low:\\n\",low"
   ]
  },
  {
   "cell_type": "code",
   "execution_count": 2,
   "metadata": {
    "collapsed": false
   },
   "outputs": [
    {
     "name": "stdout",
     "output_type": "stream",
     "text": [
      "mean: \n",
      "AAPL     135.4041\n",
      "GOOGL    840.6624\n",
      "TSLA     272.9946\n",
      "dtype: float64\n",
      "standard deviation: \n",
      "AAPL     0.029579\n",
      "GOOGL    0.164986\n",
      "TSLA     0.280873\n",
      "dtype: float64\n"
     ]
    }
   ],
   "source": [
    "#mean of the different columns\n",
    "mean = df.mean()\n",
    "print \"mean: \\n\", mean\n",
    "\n",
    "#stdev of the different columns\n",
    "stdev = df.std()\n",
    "print \"standard deviation: \\n\", stdev"
   ]
  },
  {
   "cell_type": "code",
   "execution_count": 3,
   "metadata": {
    "collapsed": false
   },
   "outputs": [
    {
     "name": "stdout",
     "output_type": "stream",
     "text": [
      "Change:\n",
      "AAPL    -0.04\n",
      "GOOGL   -0.16\n",
      "TSLA    -0.13\n",
      "dtype: float64\n"
     ]
    }
   ],
   "source": [
    "#total change in price\n",
    "change = close_time - open_time\n",
    "print \"Change:\\n\", change"
   ]
  },
  {
   "cell_type": "code",
   "execution_count": 4,
   "metadata": {
    "collapsed": false
   },
   "outputs": [
    {
     "data": {
      "text/plain": [
       "array([    0.,    11.,    23.,    33.,    44.,    56.,    67.,    80.,\n",
       "          90.,   101.,   112.,   123.,   133.,   145.,   157.,   169.,\n",
       "         184.,   195.,   207.,   219.,   231.,   242.,   252.,   264.,\n",
       "         275.,   286.,   298.,   309.,   320.,   331.,   343.,   354.,\n",
       "         365.,   375.,   387.,   398.,   408.,   415.,   427.,   438.,\n",
       "         448.,   460.,   470.,   481.,   492.,   507.,   517.,   528.,\n",
       "         540.,   552.,   563.,   575.,   587.,   598.,   610.,   621.,\n",
       "         633.,   645.,   657.,   669.,   681.,   693.,   704.,   715.,\n",
       "         727.,   739.,   750.,   762.,   773.,   786.,   797.,   810.,\n",
       "         823.,   834.,   845.,   856.,   869.,   879.,   897.,   911.,\n",
       "         923.,   934.,   945.,   958.,   969.,   981.,   992.,  1004.,\n",
       "        1017.,  1030.,  1042.,  1055.,  1066.,  1078.,  1089.,  1101.,\n",
       "        1113.,  1127.,  1138.,  1150.])"
      ]
     },
     "execution_count": 4,
     "metadata": {},
     "output_type": "execute_result"
    }
   ],
   "source": [
    "import numpy as np\n",
    "from datetime import timedelta\n",
    "#variable t\n",
    "sec = df.index\n",
    "delta = sec - sec[0]\n",
    "t = delta.total_seconds()\n",
    "t"
   ]
  },
  {
   "cell_type": "markdown",
   "metadata": {},
   "source": [
    "# Q3: Plotting\n",
    "\n",
    "* Create a graph over the stock prices with matplotlib. It should have three subplots, each showing one stock's price change over the time period. The y-axis should show the stock price and the x axis should be the **t** variable from Q1.5, i.e. the number of seconds after the first stock price was fetched (t[0] = 0).  \n",
    "\n",
    "Try to make a similar plot as the one below (**Note:** Your solution does not have to look exatly the same)\n",
    "\n",
    "<img style=\"width: 500px\" src=\"https://www.dropbox.com/s/8036uyug8lq17fk/hw4_plot1.png?dl=1\">"
   ]
  },
  {
   "cell_type": "code",
   "execution_count": 5,
   "metadata": {
    "collapsed": false,
    "scrolled": false
   },
   "outputs": [
    {
     "name": "stderr",
     "output_type": "stream",
     "text": [
      "/usr/local/lib/python2.7/site-packages/matplotlib/font_manager.py:273: UserWarning: Matplotlib is building the font cache using fc-list. This may take a moment.\n",
      "  warnings.warn('Matplotlib is building the font cache using fc-list. This may take a moment.')\n"
     ]
    },
    {
     "data": {
      "image/png": "[encoded data removed]",
      "text/plain": [
       "<matplotlib.figure.Figure at 0x10c6859d0>"
      ]
     },
     "metadata": {},
     "output_type": "display_data"
    }
   ],
   "source": [
    "import matplotlib.pyplot as plt\n",
    "\n",
    "## Input answer here ##\n",
    "fig, ax = plt.subplots(nrows=3)\n",
    "fig.subplots_adjust(hspace= 0.4)\n",
    "\n",
    "\n",
    "ax[0].plot(t, df['AAPL'], color = 'green')\n",
    "ax[0].yaxis.set_ticks(np.arange(135.34,135.45,0.05))\n",
    "ax[0].ticklabel_format(useOffset=False)\n",
    "plt.setp(ax[0].get_xticklabels(), visible = False)\n",
    "plt.setp(ax[0].get_xticklabels(), fontsize =8)\n",
    "ax[0].legend(loc = 1, labels = ['Apple'], fontsize = 6)\n",
    "\n",
    "ax[1].plot(t,df['GOOGL'], color = 'red')\n",
    "ax[1].yaxis.set_ticks(np.arange(840,841.5,0.5))\n",
    "plt.setp(ax[1].get_xticklabels(), visible = False)\n",
    "ax[1].legend(loc = 1, labels = ['Google'], fontsize = 6)\n",
    "plt.setp(ax[1].get_xticklabels(), fontsize =8)\n",
    "\n",
    "ax[2].plot(t,df['TSLA'], color = 'purple')\n",
    "ax[2].yaxis.set_ticks(np.arange(272.4,273.6,0.5))\n",
    "ax[2].ticklabel_format(useOffset=False)\n",
    "plt.setp(ax[2].get_xticklabels(), fontsize =8)\n",
    "ax[2].legend(loc = 3, labels = ['Tesla'], fontsize = 6)\n",
    "\n",
    "\n",
    "plt.xlabel('Time Stamp,seconds after t[0]=0', fontsize = 9, labelpad =10)\n",
    "ax[1].set_ylabel('Stock Prices(USD)', fontsize = 9, labelpad = 10)\n",
    "ax[0].set_title('Stock summary 02/10-2017 09:03:41 - 09:22:49', fontsize = 12, y = 1.15)\n",
    "\n",
    "\n",
    "plt.show()"
   ]
  },
  {
   "cell_type": "markdown",
   "metadata": {},
   "source": [
    "# Q4: Prediction\n",
    "\n",
    "* 1: Fit three Linear Regression models, each model should use all the data collected for one stock, i.e., fit one model for each of the stocks. \n",
    "\n",
    "\n",
    "* 2: Use the models from Q4.1 to predict what the stock price would be for each stock ten minutes after the Closing time.\n",
    "\n",
    "\n",
    "* 3: Calculate the Mean Squared Error (MSE) for your stock price prediction models, i.e. calculate 3 MSEs, one for every stock prediction model.\n",
    "\n",
    "\n",
    "* 4: Form three new Regression models, using only the 30 first data samples collected, i.e. dependent variables **stock_price[:30]** and predictors **t[:30]**. Use these models to predict the stock price for the three stocks at the time stamp **t[59]**, then compare your predictions to the collected stock value at that time (i.e., **stock_price[59]**).\n",
    "\n"
   ]
  },
  {
   "cell_type": "markdown",
   "metadata": {},
   "source": [
    "# Q5: Plot stock prices together with your 30 data point predictions\n",
    "\n",
    "* Plot the three stock prices as in Q3, and then plot the Linear Regression predictions that predicted stock prices from your 30 first collected samples. Plot the stock prices and the Linear Predictions in the same figure for the same time period, i.e. **t**. Also add a vertical line to your three plots where **t = t[29]** (i.e. at and before this line are all the data points used to form your 30 data point regression models). \n",
    "\n",
    "    Try to make a similar plot as the one below (**Note:** Your solution does not have to look exatly the same)\n",
    "    \n",
    "<img style=\"width: 500px\" src=\"https://www.dropbox.com/s/utj4xozvtdt7xjo/hw4_plot2.png?dl=1\">"
   ]
  },
  {
   "cell_type": "code",
   "execution_count": 6,
   "metadata": {
    "collapsed": false
   },
   "outputs": [
    {
     "name": "stderr",
     "output_type": "stream",
     "text": [
      "/usr/local/lib/python2.7/site-packages/scipy/linalg/basic.py:884: RuntimeWarning: internal gelsd driver lwork query error, required iwork dimension not returned. This is likely the result of LAPACK bug 0038, fixed in LAPACK 3.2.2 (released July 21, 2010). Falling back to 'gelss' driver.\n",
      "  warnings.warn(mesg, RuntimeWarning)\n"
     ]
    },
    {
     "data": {
      "text/plain": [
       "(0.00085069640978490692, 0.022802251090378568, 0.059534441668859218)"
      ]
     },
     "execution_count": 6,
     "metadata": {},
     "output_type": "execute_result"
    }
   ],
   "source": [
    "from sklearn import linear_model\n",
    "from sklearn.metrics import mean_squared_error\n",
    "\n",
    "## Input answer here ##\n",
    "#4.1\n",
    "x = t.reshape(-1,1) \n",
    "model1 = linear_model.LinearRegression()\n",
    "model2 = linear_model.LinearRegression()\n",
    "model3 = linear_model.LinearRegression()\n",
    "model1.fit(x, df['AAPL'])\n",
    "model2.fit(x,df['GOOGL'])\n",
    "model3.fit(x,df['TSLA'])\n",
    "\n",
    "#4.2\n",
    "x_predict = t+600\n",
    "x_predict = x_predict.reshape(-1,1)\n",
    "f1 = model1.predict(x_predict).flatten()\n",
    "f2 = model2.predict(x_predict).flatten()\n",
    "f3 = model3.predict(x_predict).flatten()\n",
    "\n",
    "#4.3\n",
    "p1 = model1.predict(x).flatten()\n",
    "p2 = model2.predict(x).flatten()\n",
    "p3 = model3.predict(x).flatten()\n",
    "e1 = mean_squared_error(df['AAPL'], p1)\n",
    "e2 = mean_squared_error(df['GOOGL'],p2)\n",
    "e3 = mean_squared_error(df['TSLA'],p3)\n",
    "\n",
    "e1,e2,e3"
   ]
  },
  {
   "cell_type": "code",
   "execution_count": 7,
   "metadata": {
    "collapsed": false
   },
   "outputs": [
    {
     "data": {
      "text/plain": [
       "(array([ 99.97105734]), array([ 99.99197355]), array([ 99.64796993]))"
      ]
     },
     "execution_count": 7,
     "metadata": {},
     "output_type": "execute_result"
    }
   ],
   "source": [
    "#4.4\n",
    "x = t[:30].reshape(-1,1) \n",
    "model1 = linear_model.LinearRegression()\n",
    "model2 = linear_model.LinearRegression()\n",
    "model3 = linear_model.LinearRegression()\n",
    "model1.fit(x, df['AAPL'][:30])\n",
    "model2.fit(x,df['GOOGL'][:30])\n",
    "model3.fit(x,df['TSLA'][:30])\n",
    "\n",
    "f1 = model1.predict(t[59]).flatten()\n",
    "f2 = model2.predict(t[59]).flatten()\n",
    "f3 = model3.predict(t[59]).flatten()\n",
    "\n",
    "accuracy1 =  100 - abs(df['AAPL'][59] - f1)*100/df['AAPL'][59]\n",
    "accuracy2 = 100 - abs(df['GOOGL'][59] - f2)*100/df['GOOGL'][59]\n",
    "accuracy3 = 100 - abs(df['TSLA'][59] - f3)*100/df['TSLA'][59]\n",
    "\n",
    "accuracy1,accuracy2,accuracy3\n",
    " \n"
   ]
  },
  {
   "cell_type": "code",
   "execution_count": 51,
   "metadata": {
    "collapsed": false
   },
   "outputs": [
    {
     "data": {
      "image/png": "[encoded data removed]",
      "text/plain": [
       "<matplotlib.figure.Figure at 0x11040da50>"
      ]
     },
     "metadata": {},
     "output_type": "display_data"
    }
   ],
   "source": [
    "## Input answer here ##\n",
    "fig, ax = plt.subplots(nrows = 3)\n",
    "fig.subplots_adjust(hspace= 0.4)\n",
    "\n",
    "f1 = model1.predict(x).flatten()\n",
    "f2 = model2.predict(x).flatten()\n",
    "f3 = model3.predict(x).flatten()\n",
    "\n",
    "\n",
    "ax[0].plot(x,df['AAPL'][:30], color = 'green')\n",
    "ax[0].axvline(t[29], color = 'black')\n",
    "ax[0].plot(x,f1, color = 'blue',linestyle = '--')\n",
    "ax[0].ticklabel_format(useOffset = False)\n",
    "ax[0].yaxis.set_ticks(np.arange(135.3,135.6,0.1))\n",
    "plt.setp(ax[0].get_xticklabels(),visible = False)\n",
    "ax[0].legend(loc = 2, labels = ['Apple', 'Pred'], fontsize = 6)\n",
    "\n",
    "ax[1].plot(x,df['GOOGL'][:30], color = 'red')\n",
    "ax[1].axvline(t[29], color = 'black')\n",
    "ax[1].plot(x,f2, color = 'gold',linestyle = '--')\n",
    "ax[1].yaxis.set_ticks(np.arange(840.6,841.5,.3))\n",
    "ax[1].ticklabel_format(useOffset = False)\n",
    "plt.setp(ax[1].get_xticklabels(),visible = False)\n",
    "ax[1].legend(loc = 2, labels = ['Google','Pred'], fontsize = 6)\n",
    "\n",
    "ax[2].plot(x,df['TSLA'][:30], color = 'purple')\n",
    "ax[2].axvline(t[29], color= 'black')\n",
    "ax[2].plot(x,f3, color = 'cyan',linestyle = '--')\n",
    "ax[2].yaxis.set_ticks(np.arange(273,273.9,0.3))\n",
    "ax[2].ticklabel_format(useOffset = False)\n",
    "ax[2].legend(loc = 2, labels = ['Tesla','Pred'], fontsize = 6)\n",
    "\n",
    "plt.xlabel('Time Stamp,seconds after t[0]=0', fontsize = 9, labelpad =10)\n",
    "ax[1].set_ylabel('Stock Prices(USD)', fontsize = 9, labelpad = 10)\n",
    "ax[0].set_title('Stock summary 02/10-2017 09:03:41 - 09:22:49', fontsize = 12, y = 1.15)\n",
    "plt.show()"
   ]
  },
  {
   "cell_type": "markdown",
   "metadata": {},
   "source": [
    "# Extra credit"
   ]
  },
  {
   "cell_type": "markdown",
   "metadata": {},
   "source": [
    "Mathematically derive the optimal weights that minimizes the least square error, **$\\epsilon^2$**. I.e. prove that $\\hat{\\beta} = (X^TX)^{-1}X^TY $ (matrix notation) are the optimal weight estimates for the ordinary least squares (OLS) model, given that $(X^TX)^{-1}$ exists.\n",
    "\n",
    "$$Y = \\hat{\\beta} X + \\epsilon \\text{    see matrix notation below:}$$\n",
    "\n",
    ".\n",
    "\n",
    "$$\\begin{bmatrix}\n",
    "y_{1} \\\\\n",
    "y_{2} \\\\\n",
    "\\vdots \\\\\n",
    "y_{M}\n",
    "\\end{bmatrix}\n",
    "=\n",
    "\\begin{bmatrix}\n",
    "1 & x_{11} & \\cdots & x_{1N} \\\\\n",
    "1 & x_{21} & \\cdots & x_{2N} \\\\\n",
    "\\vdots & \\ddots & \\ddots & \\vdots \\\\\n",
    "1 & x_{M1} & \\cdots & x_{MN}\n",
    "\\end{bmatrix}\n",
    "*\n",
    "\\begin{bmatrix}\n",
    "\\hat{\\beta}_{0} \\\\\n",
    "\\hat{\\beta}_{1} \\\\\n",
    "\\vdots \\\\\n",
    "\\hat{\\beta}_{N}\n",
    "\\end{bmatrix}\n",
    "+\n",
    "\\begin{bmatrix}\n",
    "\\epsilon_{1} \\\\\n",
    "\\epsilon_{2} \\\\\n",
    "\\vdots \\\\\n",
    "\\epsilon_{M}\n",
    "\\end{bmatrix} $$\n",
    "\n",
    ".\n",
    "\n",
    "<center>The objective is to minimize: $\\epsilon^T\\epsilon$:</center>\n",
    "\n",
    "\n",
    "$$\\epsilon^T\\epsilon = \\begin{bmatrix}\n",
    "\\epsilon_{1} & \\epsilon_{2} & \\cdots & \\epsilon_{M} \\\\\n",
    "\\end{bmatrix}\n",
    "\\begin{bmatrix}\n",
    "\\epsilon_{1} \\\\\n",
    "\\epsilon_{2} \\\\\n",
    "\\vdots \\\\\n",
    "\\epsilon_{M}\n",
    "\\end{bmatrix} = \\sum_{i=1}^{M}\\epsilon_{i}^{2}\n",
    "$$\n",
    "\n",
    "\n",
    "<center> where, </center>\n",
    "\n",
    "$$\\epsilon = Y-\\hat{\\beta} X$$\n",
    "\n"
   ]
  },
  {
   "cell_type": "code",
   "execution_count": null,
   "metadata": {
    "collapsed": true
   },
   "outputs": [],
   "source": [
    "'''\n",
    "## PLEASE SUBMIT YOUR ANSWER to the EXTRA CREDIT question as \n",
    "## a written mathematical proof.\n",
    "## Either turn it in as a PDF to bcourses (scanned / photo copy) \n",
    "## named \"[student name]-hw4-ec.pdf\"\n",
    "## or turn it in on paper \n",
    "## at the beginning of Lecture 5 with your name and SID\n",
    "'''"
   ]
  },
  {
   "cell_type": "code",
   "execution_count": null,
   "metadata": {
    "collapsed": true
   },
   "outputs": [],
   "source": [
    "\n",
    "\n",
    "\n",
    "\n",
    "\n",
    "\n",
    "\n",
    "\n",
    "\n"
   ]
  }
 ],
 "metadata": {
  "anaconda-cloud": {},
  "kernelspec": {
   "display_name": "Python 2",
   "language": "python",
   "name": "python2"
  },
  "language_info": {
   "codemirror_mode": {
    "name": "ipython",
    "version": 2
   },
   "file_extension": ".py",
   "mimetype": "text/x-python",
   "name": "python",
   "nbconvert_exporter": "python",
   "pygments_lexer": "ipython2",
   "version": "2.7.12"
  }
 },
 "nbformat": 4,
 "nbformat_minor": 1
}
