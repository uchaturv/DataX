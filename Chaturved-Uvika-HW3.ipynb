{
 "cells": [
  {
   "cell_type": "markdown",
   "metadata": {},
   "source": [
    "## Data-X (IEOR 290): HW 1\n",
    "\n",
    "### Uvika Chaturvedi\n",
    "\n",
    "#### SID: 3032162420"
   ]
  },
  {
   "cell_type": "markdown",
   "metadata": {},
   "source": [
    "## Q1 Read in the data\n",
    "\n",
    "* 1: Read in the data stored in the CSV file at this URL https://www.dropbox.com/s/cz2kpe1oklwif3j/data3.csv?dl=1 to a Pandas DataFrame called `df`. \n",
    "\n",
    "**Note:** Use pandas method `pd.read_csv('URL')` or download the file, place it in the same folder as the notebook and use `pd.read_csv('file_name')`.\n",
    "\n",
    "Please run `df.head()`, it should produce the following output:\n",
    "\n",
    "<img src=\"https://www.dropbox.com/s/m19qu65cb5g2dci/hw3.1.df.head.png?dl=1\" width=\"600\" height=\"200\" />"
   ]
  },
  {
   "cell_type": "markdown",
   "metadata": {},
   "source": [
    "### Data description\n",
    "**Data source:** http://www.fao.org/nr/water/aquastat/data/query/index.html?lang=en\n",
    "\n",
    "**Data, units:** \n",
    "- GDP, current USD (CPI adjusted)\n",
    "- NRI, mm/yr\n",
    "- Population density, inhab/km^2\n",
    "- Total area of the country, 10 ha = 0.1km^2\n",
    "- Total Population, unit 1000 inhabitants"
   ]
  },
  {
   "cell_type": "code",
   "execution_count": 69,
   "metadata": {
    "collapsed": false
   },
   "outputs": [
    {
     "data": {
      "text/html": [
       "<div>\n",
       "<table border=\"1\" class=\"dataframe\">\n",
       "  <thead>\n",
       "    <tr style=\"text-align: right;\">\n",
       "      <th></th>\n",
       "      <th>Area</th>\n",
       "      <th>Area Id</th>\n",
       "      <th>Variable Name</th>\n",
       "      <th>Variable Id</th>\n",
       "      <th>Year</th>\n",
       "      <th>Value</th>\n",
       "      <th>Symbol</th>\n",
       "      <th>Md</th>\n",
       "    </tr>\n",
       "  </thead>\n",
       "  <tbody>\n",
       "    <tr>\n",
       "      <th>0</th>\n",
       "      <td>Argentina</td>\n",
       "      <td>9.0</td>\n",
       "      <td>Total area of the country</td>\n",
       "      <td>4100.0</td>\n",
       "      <td>1962.0</td>\n",
       "      <td>278040.0</td>\n",
       "      <td>E</td>\n",
       "      <td>NaN</td>\n",
       "    </tr>\n",
       "    <tr>\n",
       "      <th>1</th>\n",
       "      <td>Argentina</td>\n",
       "      <td>9.0</td>\n",
       "      <td>Total area of the country</td>\n",
       "      <td>4100.0</td>\n",
       "      <td>1967.0</td>\n",
       "      <td>278040.0</td>\n",
       "      <td>E</td>\n",
       "      <td>NaN</td>\n",
       "    </tr>\n",
       "    <tr>\n",
       "      <th>2</th>\n",
       "      <td>Argentina</td>\n",
       "      <td>9.0</td>\n",
       "      <td>Total area of the country</td>\n",
       "      <td>4100.0</td>\n",
       "      <td>1972.0</td>\n",
       "      <td>278040.0</td>\n",
       "      <td>E</td>\n",
       "      <td>NaN</td>\n",
       "    </tr>\n",
       "    <tr>\n",
       "      <th>3</th>\n",
       "      <td>Argentina</td>\n",
       "      <td>9.0</td>\n",
       "      <td>Total area of the country</td>\n",
       "      <td>4100.0</td>\n",
       "      <td>1977.0</td>\n",
       "      <td>278040.0</td>\n",
       "      <td>E</td>\n",
       "      <td>NaN</td>\n",
       "    </tr>\n",
       "    <tr>\n",
       "      <th>4</th>\n",
       "      <td>Argentina</td>\n",
       "      <td>9.0</td>\n",
       "      <td>Total area of the country</td>\n",
       "      <td>4100.0</td>\n",
       "      <td>1982.0</td>\n",
       "      <td>278040.0</td>\n",
       "      <td>E</td>\n",
       "      <td>NaN</td>\n",
       "    </tr>\n",
       "  </tbody>\n",
       "</table>\n",
       "</div>"
      ],
      "text/plain": [
       "        Area  Area Id              Variable Name  Variable Id    Year  \\\n",
       "0  Argentina      9.0  Total area of the country       4100.0  1962.0   \n",
       "1  Argentina      9.0  Total area of the country       4100.0  1967.0   \n",
       "2  Argentina      9.0  Total area of the country       4100.0  1972.0   \n",
       "3  Argentina      9.0  Total area of the country       4100.0  1977.0   \n",
       "4  Argentina      9.0  Total area of the country       4100.0  1982.0   \n",
       "\n",
       "      Value Symbol  Md  \n",
       "0  278040.0      E NaN  \n",
       "1  278040.0      E NaN  \n",
       "2  278040.0      E NaN  \n",
       "3  278040.0      E NaN  \n",
       "4  278040.0      E NaN  "
      ]
     },
     "execution_count": 69,
     "metadata": {},
     "output_type": "execute_result"
    }
   ],
   "source": [
    "# Load required modules\n",
    "import pandas as pd\n",
    "import numpy as np\n",
    "import matplotlib.pyplot as plt\n",
    "\n",
    "'''#### INPUT SOLUTION FOR Q1 HERE AND PRINT df.head() ####'''\n",
    "''\n",
    "df = pd.read_csv('data3.csv')\n",
    "df.head()"
   ]
  },
  {
   "cell_type": "markdown",
   "metadata": {},
   "source": [
    "## Q2 Data preprocessing / Clean up the data\n",
    "\n",
    "* 1: **Drop rows**: First get rid of all the unnecessary bottom rows in `df` that do not have any country information the Area column. (Hint: Inspect the CSV file in order to find out which rows to get rid of)\n",
    "\n",
    "* 2: **Drop columns**: drop the columns **Area Id, Variable Id, Symbol**, and **Md**.\n",
    "\n",
    "* 3: **Convert the 'Year' column string values** to pandas datetime objects, where only the year is specified. To do this, simply run the code below (please review it carefully and make sure you understand what happens):\n",
    "    \n",
    "    `df['Year'] = pd.to_datetime(pd.Series(df['Year']).astype(int),format='%Y').dt.year`\n",
    "\n",
    "\n",
    "\n",
    "Run `df.tail()`, it should produce the following output:\n",
    "\n",
    "\n",
    "<img src=\"https://www.dropbox.com/s/706luf5z492psnv/hw3.1.df_tail.png?dl=1&1\" width=\"600\" height=\"200\" />"
   ]
  },
  {
   "cell_type": "code",
   "execution_count": 70,
   "metadata": {
    "collapsed": false
   },
   "outputs": [
    {
     "data": {
      "text/html": [
       "<div>\n",
       "<table border=\"1\" class=\"dataframe\">\n",
       "  <thead>\n",
       "    <tr style=\"text-align: right;\">\n",
       "      <th></th>\n",
       "      <th>Area</th>\n",
       "      <th>Variable Name</th>\n",
       "      <th>Year</th>\n",
       "      <th>Value</th>\n",
       "    </tr>\n",
       "  </thead>\n",
       "  <tbody>\n",
       "    <tr>\n",
       "      <th>385</th>\n",
       "      <td>United States of America</td>\n",
       "      <td>National Rainfall Index (NRI)</td>\n",
       "      <td>1981</td>\n",
       "      <td>949.2</td>\n",
       "    </tr>\n",
       "    <tr>\n",
       "      <th>386</th>\n",
       "      <td>United States of America</td>\n",
       "      <td>National Rainfall Index (NRI)</td>\n",
       "      <td>1984</td>\n",
       "      <td>974.6</td>\n",
       "    </tr>\n",
       "    <tr>\n",
       "      <th>387</th>\n",
       "      <td>United States of America</td>\n",
       "      <td>National Rainfall Index (NRI)</td>\n",
       "      <td>1992</td>\n",
       "      <td>1020.0</td>\n",
       "    </tr>\n",
       "    <tr>\n",
       "      <th>388</th>\n",
       "      <td>United States of America</td>\n",
       "      <td>National Rainfall Index (NRI)</td>\n",
       "      <td>1996</td>\n",
       "      <td>1005.0</td>\n",
       "    </tr>\n",
       "    <tr>\n",
       "      <th>389</th>\n",
       "      <td>United States of America</td>\n",
       "      <td>National Rainfall Index (NRI)</td>\n",
       "      <td>2002</td>\n",
       "      <td>938.7</td>\n",
       "    </tr>\n",
       "  </tbody>\n",
       "</table>\n",
       "</div>"
      ],
      "text/plain": [
       "                         Area                  Variable Name  Year   Value\n",
       "385  United States of America  National Rainfall Index (NRI)  1981   949.2\n",
       "386  United States of America  National Rainfall Index (NRI)  1984   974.6\n",
       "387  United States of America  National Rainfall Index (NRI)  1992  1020.0\n",
       "388  United States of America  National Rainfall Index (NRI)  1996  1005.0\n",
       "389  United States of America  National Rainfall Index (NRI)  2002   938.7"
      ]
     },
     "execution_count": 70,
     "metadata": {},
     "output_type": "execute_result"
    }
   ],
   "source": [
    "'''#### INPUT SOLUTION FOR Q2 HERE AND PRINT df.tail() ####'''\n",
    "df = df.dropna(subset = ['Area Id'])\n",
    "df = df[['Area','Variable Name','Year','Value']]\n",
    "df['Year'] = pd.to_datetime(pd.Series(df['Year']).astype(int),format='%Y').dt.year\n",
    "df.tail()"
   ]
  },
  {
   "cell_type": "markdown",
   "metadata": {},
   "source": [
    "## Q3 Extract specific statistics\n",
    "* 1: Print the years when the National Rainfall Index (NRI) was greater than 950 or less than 900 in Iceland, by using this code:\n",
    "\n",
    "\n",
    "`df[(df['Area']=='Iceland') & (df['Variable Name']=='National Rainfall Index (NRI)') & ( (df['Value']>950) | (df['Value']<900) )]['Year']`\n",
    "    \n",
    "    \n",
    "* 2: Print the countries where 'Total area of the country' has a Value > 40000 (hint: when you have extracted the results you can use the `.unique()` method to only print the unique countries).\n",
    "\n",
    "* 3: Print the rows where 'Population density' has a Value > 65"
   ]
  },
  {
   "cell_type": "code",
   "execution_count": 71,
   "metadata": {
    "collapsed": false
   },
   "outputs": [
    {
     "data": {
      "text/plain": [
       "(array(['Argentina', 'Australia', 'Germany', 'Iceland', 'Ireland', 'Sweden',\n",
       "        'United States of America'], dtype=object),\n",
       "         Area       Variable Name  Year   Value\n",
       " 136  Germany  Population density  1962  208.00\n",
       " 137  Germany  Population density  1967  216.00\n",
       " 138  Germany  Population density  1972  220.50\n",
       " 139  Germany  Population density  1977  220.00\n",
       " 140  Germany  Population density  1982  218.00\n",
       " 141  Germany  Population density  1987  218.10\n",
       " 142  Germany  Population density  1992  224.30\n",
       " 143  Germany  Population density  1997  229.70\n",
       " 144  Germany  Population density  2002  228.80\n",
       " 145  Germany  Population density  2007  226.40\n",
       " 146  Germany  Population density  2012  225.30\n",
       " 147  Germany  Population density  2015  225.80\n",
       " 256  Ireland  Population density  2012   66.42\n",
       " 257  Ireland  Population density  2015   66.70)"
      ]
     },
     "execution_count": 71,
     "metadata": {},
     "output_type": "execute_result"
    }
   ],
   "source": [
    "'''#### INPUT SOLUTION FOR Q3 HERE AND PRINT THE RESULTS BELOW ####'''\n",
    "query1 = df[(df['Area']=='Iceland') & (df['Variable Name']=='National Rainfall Index (NRI)') & ( (df['Value']>950) | (df['Value']<900) )]['Year']\n",
    "query2 = df[(df['Value']>4000 & (df['Variable Name']=='Total area of the country'))]['Area'].unique()\n",
    "query3 = df[(df['Variable Name'] == 'Population density') & (df['Value'] > 65)]\n",
    "query2, query3"
   ]
  },
  {
   "cell_type": "markdown",
   "metadata": {},
   "source": [
    "# Q4 US Data Exploration\n",
    "* 1: Create a new DataFrame called **`df_us`** that only contains values where 'Area' is equal to 'United States of America'. Set the indices to be the 'Year' column and pivot the DataFrame so that the unique 'Variable Name' entries becomes the column entries. The DataFrame values should be the ones in the the 'Value' column. Do this by running the three lines of code below:\n",
    "\n",
    "        1. df_us = df[df['Area']=='United States of America']\n",
    "        2. df_us.set_index('Year',inplace=True)\n",
    "        3. df_us=df_us.pivot(columns='Variable Name',values='Value')\n",
    "        \n",
    "        \n",
    "* 2: Rename the columns to `['GDP','NRI','PD','Area','Population']`.\n",
    "\n",
    "\n",
    "* 3: Multiply the Area for all countries by 10 (so instead of 10 ha, the unit becomes 100 ha = 1km^2)\n",
    "\n",
    "\n",
    "* 4: Create a new column in df_us called 'GDP/capita' and populate it with the calculated GDP per capita. Round the results to two decimal points.\n",
    "\n",
    "\n",
    "* 5: Create a new column called 'PD2' (i.e. Population density 2). Calculate the Population density. **Note: the units should be inhab/km^2** (see Data description above). Round the reults to two decimal point.\n",
    "\n",
    "\n",
    "**Running `df_head()`** should produce:\n",
    "\n",
    "<img src=\"https://www.dropbox.com/s/0bwrca41cmc5w09/hw3.1.df_head_2.png?dl=1&2\" width=\"600\" height=\"200\" />"
   ]
  },
  {
   "cell_type": "code",
   "execution_count": 72,
   "metadata": {
    "collapsed": false
   },
   "outputs": [
    {
     "data": {
      "text/html": [
       "<div>\n",
       "<table border=\"1\" class=\"dataframe\">\n",
       "  <thead>\n",
       "    <tr style=\"text-align: right;\">\n",
       "      <th></th>\n",
       "      <th>GDP</th>\n",
       "      <th>NRI</th>\n",
       "      <th>PD</th>\n",
       "      <th>Area</th>\n",
       "      <th>Population</th>\n",
       "      <th>PD2</th>\n",
       "      <th>GDP/capita</th>\n",
       "    </tr>\n",
       "    <tr>\n",
       "      <th>Year</th>\n",
       "      <th></th>\n",
       "      <th></th>\n",
       "      <th></th>\n",
       "      <th></th>\n",
       "      <th></th>\n",
       "      <th></th>\n",
       "      <th></th>\n",
       "    </tr>\n",
       "  </thead>\n",
       "  <tbody>\n",
       "    <tr>\n",
       "      <th>1962</th>\n",
       "      <td>6.050000e+11</td>\n",
       "      <td>NaN</td>\n",
       "      <td>19.93</td>\n",
       "      <td>9629090.0</td>\n",
       "      <td>191861.0</td>\n",
       "      <td>19.93</td>\n",
       "      <td>3153.32</td>\n",
       "    </tr>\n",
       "    <tr>\n",
       "      <th>1965</th>\n",
       "      <td>NaN</td>\n",
       "      <td>928.5</td>\n",
       "      <td>NaN</td>\n",
       "      <td>NaN</td>\n",
       "      <td>NaN</td>\n",
       "      <td>NaN</td>\n",
       "      <td>NaN</td>\n",
       "    </tr>\n",
       "    <tr>\n",
       "      <th>1967</th>\n",
       "      <td>8.620000e+11</td>\n",
       "      <td>NaN</td>\n",
       "      <td>21.16</td>\n",
       "      <td>9629090.0</td>\n",
       "      <td>203713.0</td>\n",
       "      <td>21.16</td>\n",
       "      <td>4231.44</td>\n",
       "    </tr>\n",
       "    <tr>\n",
       "      <th>1969</th>\n",
       "      <td>NaN</td>\n",
       "      <td>952.2</td>\n",
       "      <td>NaN</td>\n",
       "      <td>NaN</td>\n",
       "      <td>NaN</td>\n",
       "      <td>NaN</td>\n",
       "      <td>NaN</td>\n",
       "    </tr>\n",
       "    <tr>\n",
       "      <th>1972</th>\n",
       "      <td>1.280000e+12</td>\n",
       "      <td>NaN</td>\n",
       "      <td>22.14</td>\n",
       "      <td>9629090.0</td>\n",
       "      <td>213220.0</td>\n",
       "      <td>22.14</td>\n",
       "      <td>6003.19</td>\n",
       "    </tr>\n",
       "  </tbody>\n",
       "</table>\n",
       "</div>"
      ],
      "text/plain": [
       "               GDP    NRI     PD       Area  Population    PD2  GDP/capita\n",
       "Year                                                                      \n",
       "1962  6.050000e+11    NaN  19.93  9629090.0    191861.0  19.93     3153.32\n",
       "1965           NaN  928.5    NaN        NaN         NaN    NaN         NaN\n",
       "1967  8.620000e+11    NaN  21.16  9629090.0    203713.0  21.16     4231.44\n",
       "1969           NaN  952.2    NaN        NaN         NaN    NaN         NaN\n",
       "1972  1.280000e+12    NaN  22.14  9629090.0    213220.0  22.14     6003.19"
      ]
     },
     "execution_count": 72,
     "metadata": {},
     "output_type": "execute_result"
    }
   ],
   "source": [
    "df_us = df[df['Area']=='United States of America']\n",
    "df_us.set_index('Year',inplace=True)\n",
    "df_us=df_us.pivot(columns='Variable Name',values='Value')\n",
    "df_us.columns = ['GDP','NRI','PD','Area','Population']\n",
    "df_us['Area'] = df_us['Area']*10\n",
    "df_us['PD2'] = np.round(df_us['Population']*1000/df_us['Area'],2)\n",
    "df_us['GDP/capita'] = np.round(df_us['GDP']/(1000*df_us['Population']),2)\n",
    "df_us.head()"
   ]
  },
  {
   "cell_type": "markdown",
   "metadata": {},
   "source": [
    "# Q5 US statistics:\n",
    "#### Column Mean/Average, Compare Population Density, Find min/max NRI & Handle NaN entries\n",
    "\n",
    "* 1: Calculate and print all the column averages and the column standard deviations.\n",
    "\n",
    "\n",
    "* 2: Compare the columns 'PD' and 'PD2'. Is there any year when the two columns are not equal (exclude the years with NaN entries and the year 2015 for the 'PD' column)?\n",
    "\n",
    "\n",
    "* 3: Drop column 'PD2' from the DataFrame df_us.\n",
    "\n",
    "\n",
    "* 4: Find the maximum value and minimum value of the 'NRI' column in the US (using pandas methods). What years do the min and max values occur?\n",
    "\n",
    "\n",
    "* 5: Fill some of the NaN entries in df_us by calculating the average of the values stored the year before and the year after the NaN value (i.e., one row above and one row below, Note: this only works if there are values both above and below the NaN entry). Do this for each NaN entry in all the columns. Hint, one way to do this: Try using `.shift(2)`, adding two dfs, dividing the resulting df by two, shifting the average values to the NaN rows with `.shift(-1)` and then filling the NaN with the results using `.fillna(**args**)`\n",
    "\n",
    "\n",
    "* 6: Fill the rest of the NaN values in the 'NRI' column with the mean of the other values in the column, round the results to two decimal points (hint: use DataFrame method `.fillna(**args**)`). \n",
    "\n",
    "**Printing `df_us.tail(10)`** should give you:\n",
    "\n",
    "\n",
    "<img src=\"https://www.dropbox.com/s/hv6htxtbavqf4d2/hw3.1.df_tail_3.png?dl=1&2\" width=\"600\" height=\"200\" />"
   ]
  },
  {
   "cell_type": "code",
   "execution_count": 73,
   "metadata": {
    "collapsed": false
   },
   "outputs": [
    {
     "data": {
      "text/plain": [
       "(GDP           7.316417e+12\n",
       " NRI           9.720250e+02\n",
       " PD            2.644417e+01\n",
       " Area          9.663317e+06\n",
       " Population    2.557296e+05\n",
       " PD2           2.587273e+01\n",
       " GDP/capita    2.558969e+04\n",
       " dtype: float64, GDP           6.256868e+12\n",
       " NRI           3.506886e+01\n",
       " PD            4.425996e+00\n",
       " Area          7.857100e+04\n",
       " Population    4.428103e+04\n",
       " PD2           4.151870e+00\n",
       " GDP/capita    1.915782e+04\n",
       " dtype: float64)"
      ]
     },
     "execution_count": 73,
     "metadata": {},
     "output_type": "execute_result"
    }
   ],
   "source": [
    "mean = df_us.mean()\n",
    "stdev = df_us.std()\n",
    "mean, stdev"
   ]
  },
  {
   "cell_type": "code",
   "execution_count": 74,
   "metadata": {
    "collapsed": false
   },
   "outputs": [
    {
     "data": {
      "text/html": [
       "<div>\n",
       "<table border=\"1\" class=\"dataframe\">\n",
       "  <thead>\n",
       "    <tr style=\"text-align: right;\">\n",
       "      <th></th>\n",
       "      <th>GDP</th>\n",
       "      <th>NRI</th>\n",
       "      <th>PD</th>\n",
       "      <th>Area</th>\n",
       "      <th>Population</th>\n",
       "      <th>PD2</th>\n",
       "      <th>GDP/capita</th>\n",
       "    </tr>\n",
       "    <tr>\n",
       "      <th>Year</th>\n",
       "      <th></th>\n",
       "      <th></th>\n",
       "      <th></th>\n",
       "      <th></th>\n",
       "      <th></th>\n",
       "      <th></th>\n",
       "      <th></th>\n",
       "    </tr>\n",
       "  </thead>\n",
       "  <tbody>\n",
       "  </tbody>\n",
       "</table>\n",
       "</div>"
      ],
      "text/plain": [
       "Empty DataFrame\n",
       "Columns: [GDP, NRI, PD, Area, Population, PD2, GDP/capita]\n",
       "Index: []"
      ]
     },
     "execution_count": 74,
     "metadata": {},
     "output_type": "execute_result"
    }
   ],
   "source": [
    "df_us[(df_us['PD'] != df_us['PD2']) & (df_us['PD'].notnull()) & (df_us.index != 2015)]"
   ]
  },
  {
   "cell_type": "code",
   "execution_count": 75,
   "metadata": {
    "collapsed": false
   },
   "outputs": [],
   "source": [
    "del df_us['PD2']"
   ]
  },
  {
   "cell_type": "code",
   "execution_count": 76,
   "metadata": {
    "collapsed": false
   },
   "outputs": [
    {
     "data": {
      "text/plain": [
       "(1020.0, 928.5)"
      ]
     },
     "execution_count": 76,
     "metadata": {},
     "output_type": "execute_result"
    }
   ],
   "source": [
    "maximum = df_us['NRI'].max()\n",
    "minimum = df_us['NRI'].min()\n",
    "maximum, minimum"
   ]
  },
  {
   "cell_type": "code",
   "execution_count": 77,
   "metadata": {
    "collapsed": false
   },
   "outputs": [
    {
     "data": {
      "text/plain": [
       "Int64Index([1965, 1992], dtype='int64', name=u'Year')"
      ]
     },
     "execution_count": 77,
     "metadata": {},
     "output_type": "execute_result"
    }
   ],
   "source": [
    "df_us[(df_us['NRI'] == maximum) | (df_us['NRI'] == minimum)].index"
   ]
  },
  {
   "cell_type": "code",
   "execution_count": 78,
   "metadata": {
    "collapsed": false
   },
   "outputs": [
    {
     "data": {
      "text/html": [
       "<div>\n",
       "<table border=\"1\" class=\"dataframe\">\n",
       "  <thead>\n",
       "    <tr style=\"text-align: right;\">\n",
       "      <th></th>\n",
       "      <th>GDP</th>\n",
       "      <th>NRI</th>\n",
       "      <th>PD</th>\n",
       "      <th>Area</th>\n",
       "      <th>Population</th>\n",
       "      <th>GDP/capita</th>\n",
       "    </tr>\n",
       "    <tr>\n",
       "      <th>Year</th>\n",
       "      <th></th>\n",
       "      <th></th>\n",
       "      <th></th>\n",
       "      <th></th>\n",
       "      <th></th>\n",
       "      <th></th>\n",
       "    </tr>\n",
       "  </thead>\n",
       "  <tbody>\n",
       "    <tr>\n",
       "      <th>1984</th>\n",
       "      <td>4.105000e+12</td>\n",
       "      <td>974.600000</td>\n",
       "      <td>24.895</td>\n",
       "      <td>9629090.0</td>\n",
       "      <td>239689.5</td>\n",
       "      <td>17059.72</td>\n",
       "    </tr>\n",
       "    <tr>\n",
       "      <th>1987</th>\n",
       "      <td>4.870000e+12</td>\n",
       "      <td>997.300000</td>\n",
       "      <td>25.490</td>\n",
       "      <td>9629090.0</td>\n",
       "      <td>245425.0</td>\n",
       "      <td>19843.13</td>\n",
       "    </tr>\n",
       "    <tr>\n",
       "      <th>1992</th>\n",
       "      <td>6.540000e+12</td>\n",
       "      <td>1020.000000</td>\n",
       "      <td>26.780</td>\n",
       "      <td>9629090.0</td>\n",
       "      <td>257908.0</td>\n",
       "      <td>25357.88</td>\n",
       "    </tr>\n",
       "    <tr>\n",
       "      <th>1996</th>\n",
       "      <td>7.575000e+12</td>\n",
       "      <td>1005.000000</td>\n",
       "      <td>27.560</td>\n",
       "      <td>9629090.0</td>\n",
       "      <td>265395.5</td>\n",
       "      <td>28454.93</td>\n",
       "    </tr>\n",
       "    <tr>\n",
       "      <th>1997</th>\n",
       "      <td>8.610000e+12</td>\n",
       "      <td>971.850000</td>\n",
       "      <td>28.340</td>\n",
       "      <td>9629090.0</td>\n",
       "      <td>272883.0</td>\n",
       "      <td>31551.98</td>\n",
       "    </tr>\n",
       "    <tr>\n",
       "      <th>2002</th>\n",
       "      <td>1.100000e+13</td>\n",
       "      <td>938.700000</td>\n",
       "      <td>29.950</td>\n",
       "      <td>9632030.0</td>\n",
       "      <td>288471.0</td>\n",
       "      <td>38132.08</td>\n",
       "    </tr>\n",
       "    <tr>\n",
       "      <th>2007</th>\n",
       "      <td>1.450000e+13</td>\n",
       "      <td>971.878571</td>\n",
       "      <td>31.320</td>\n",
       "      <td>9632030.0</td>\n",
       "      <td>301656.0</td>\n",
       "      <td>48068.00</td>\n",
       "    </tr>\n",
       "    <tr>\n",
       "      <th>2012</th>\n",
       "      <td>1.620000e+13</td>\n",
       "      <td>971.878571</td>\n",
       "      <td>32.020</td>\n",
       "      <td>9831510.0</td>\n",
       "      <td>314799.0</td>\n",
       "      <td>51461.41</td>\n",
       "    </tr>\n",
       "    <tr>\n",
       "      <th>2014</th>\n",
       "      <td>1.705000e+13</td>\n",
       "      <td>971.878571</td>\n",
       "      <td>32.375</td>\n",
       "      <td>9831510.0</td>\n",
       "      <td>318286.5</td>\n",
       "      <td>53545.26</td>\n",
       "    </tr>\n",
       "    <tr>\n",
       "      <th>2015</th>\n",
       "      <td>1.790000e+13</td>\n",
       "      <td>971.878571</td>\n",
       "      <td>32.730</td>\n",
       "      <td>NaN</td>\n",
       "      <td>321774.0</td>\n",
       "      <td>55629.11</td>\n",
       "    </tr>\n",
       "  </tbody>\n",
       "</table>\n",
       "</div>"
      ],
      "text/plain": [
       "               GDP          NRI      PD       Area  Population  GDP/capita\n",
       "Year                                                                      \n",
       "1984  4.105000e+12   974.600000  24.895  9629090.0    239689.5    17059.72\n",
       "1987  4.870000e+12   997.300000  25.490  9629090.0    245425.0    19843.13\n",
       "1992  6.540000e+12  1020.000000  26.780  9629090.0    257908.0    25357.88\n",
       "1996  7.575000e+12  1005.000000  27.560  9629090.0    265395.5    28454.93\n",
       "1997  8.610000e+12   971.850000  28.340  9629090.0    272883.0    31551.98\n",
       "2002  1.100000e+13   938.700000  29.950  9632030.0    288471.0    38132.08\n",
       "2007  1.450000e+13   971.878571  31.320  9632030.0    301656.0    48068.00\n",
       "2012  1.620000e+13   971.878571  32.020  9831510.0    314799.0    51461.41\n",
       "2014  1.705000e+13   971.878571  32.375  9831510.0    318286.5    53545.26\n",
       "2015  1.790000e+13   971.878571  32.730        NaN    321774.0    55629.11"
      ]
     },
     "execution_count": 78,
     "metadata": {},
     "output_type": "execute_result"
    }
   ],
   "source": [
    "df_us_shift = df_us.shift(2)\n",
    "df_us_2 = (df_us_shift + df_us)/2\n",
    "df_us_2 = df_us_2.shift(-1)\n",
    "df_us.fillna(df_us_2, inplace = True)\n",
    "df_us['NRI'].fillna(df_us['NRI'].mean(),inplace =True)\n",
    "df_us.tail(10)\n"
   ]
  },
  {
   "cell_type": "markdown",
   "metadata": {},
   "source": [
    "## Extra Credit 1: Simple plotting\n",
    "\n",
    "* 1: Fill NaN value for column 'Area' in 2015 with the same value as it was in 2014.\n",
    "\n",
    "\n",
    "* 2: Scatter plot NRI against year. Use `plt.scatter(x,y)` followed by `plt.show()`. Hint: Use `x=df_us.index.values` to access the 'Year' index values.\n",
    "\n",
    "\n",
    "* 3: Normalize all values in df_us. In order to do so use this formula on all columns: \n",
    "\n",
    "    `norm_value = (value - col_mean)/(max(col_value)-min(col_value))`. \n",
    "    \n",
    "    Where `value` is an arbitrary value stored in df_us, `col_mean` is the mean of the column that value belongs to, `max(col_value)` is the maximum value of the same column, and `min(col_value)` is the minimum value of that column. Store the results in a new df called `df_norm`.\n",
    "\n",
    "\n",
    "\n",
    "**`df_norm.head()` should print:**\n",
    "\n",
    "<img src=\"https://www.dropbox.com/s/io6vru0u2qcasga/hw3.dfnorm_head.png?dl=1\" width=\"600\" height=\"200\" />\n",
    "\n",
    "\n",
    "\n",
    "\n",
    "## Extra Credit 1 (continued): Line plot\n",
    "* **4:** Line plot all the column values in df_norm. The values of df_norm should be plotted on the y-axis and the indices 'Years' should be plotted on the x-axis (try using pandas method `df_norm.plot()` followed by `plt.show()`). What can you say about the results, can you find some kind of correlation between the column values?"
   ]
  },
  {
   "cell_type": "code",
   "execution_count": 79,
   "metadata": {
    "collapsed": false
   },
   "outputs": [
    {
     "data": {
      "text/html": [
       "<div>\n",
       "<table border=\"1\" class=\"dataframe\">\n",
       "  <thead>\n",
       "    <tr style=\"text-align: right;\">\n",
       "      <th></th>\n",
       "      <th>GDP</th>\n",
       "      <th>NRI</th>\n",
       "      <th>PD</th>\n",
       "      <th>Area</th>\n",
       "      <th>Population</th>\n",
       "      <th>GDP/capita</th>\n",
       "    </tr>\n",
       "    <tr>\n",
       "      <th>Year</th>\n",
       "      <th></th>\n",
       "      <th></th>\n",
       "      <th></th>\n",
       "      <th></th>\n",
       "      <th></th>\n",
       "      <th></th>\n",
       "    </tr>\n",
       "  </thead>\n",
       "  <tbody>\n",
       "    <tr>\n",
       "      <th>1984</th>\n",
       "      <td>4.105000e+12</td>\n",
       "      <td>974.600000</td>\n",
       "      <td>24.895</td>\n",
       "      <td>9629090.0</td>\n",
       "      <td>239689.5</td>\n",
       "      <td>17059.72</td>\n",
       "    </tr>\n",
       "    <tr>\n",
       "      <th>1987</th>\n",
       "      <td>4.870000e+12</td>\n",
       "      <td>997.300000</td>\n",
       "      <td>25.490</td>\n",
       "      <td>9629090.0</td>\n",
       "      <td>245425.0</td>\n",
       "      <td>19843.13</td>\n",
       "    </tr>\n",
       "    <tr>\n",
       "      <th>1992</th>\n",
       "      <td>6.540000e+12</td>\n",
       "      <td>1020.000000</td>\n",
       "      <td>26.780</td>\n",
       "      <td>9629090.0</td>\n",
       "      <td>257908.0</td>\n",
       "      <td>25357.88</td>\n",
       "    </tr>\n",
       "    <tr>\n",
       "      <th>1996</th>\n",
       "      <td>7.575000e+12</td>\n",
       "      <td>1005.000000</td>\n",
       "      <td>27.560</td>\n",
       "      <td>9629090.0</td>\n",
       "      <td>265395.5</td>\n",
       "      <td>28454.93</td>\n",
       "    </tr>\n",
       "    <tr>\n",
       "      <th>1997</th>\n",
       "      <td>8.610000e+12</td>\n",
       "      <td>971.850000</td>\n",
       "      <td>28.340</td>\n",
       "      <td>9629090.0</td>\n",
       "      <td>272883.0</td>\n",
       "      <td>31551.98</td>\n",
       "    </tr>\n",
       "    <tr>\n",
       "      <th>2002</th>\n",
       "      <td>1.100000e+13</td>\n",
       "      <td>938.700000</td>\n",
       "      <td>29.950</td>\n",
       "      <td>9632030.0</td>\n",
       "      <td>288471.0</td>\n",
       "      <td>38132.08</td>\n",
       "    </tr>\n",
       "    <tr>\n",
       "      <th>2007</th>\n",
       "      <td>1.450000e+13</td>\n",
       "      <td>971.878571</td>\n",
       "      <td>31.320</td>\n",
       "      <td>9632030.0</td>\n",
       "      <td>301656.0</td>\n",
       "      <td>48068.00</td>\n",
       "    </tr>\n",
       "    <tr>\n",
       "      <th>2012</th>\n",
       "      <td>1.620000e+13</td>\n",
       "      <td>971.878571</td>\n",
       "      <td>32.020</td>\n",
       "      <td>9831510.0</td>\n",
       "      <td>314799.0</td>\n",
       "      <td>51461.41</td>\n",
       "    </tr>\n",
       "    <tr>\n",
       "      <th>2014</th>\n",
       "      <td>1.705000e+13</td>\n",
       "      <td>971.878571</td>\n",
       "      <td>32.375</td>\n",
       "      <td>9831510.0</td>\n",
       "      <td>318286.5</td>\n",
       "      <td>53545.26</td>\n",
       "    </tr>\n",
       "    <tr>\n",
       "      <th>2015</th>\n",
       "      <td>1.790000e+13</td>\n",
       "      <td>971.878571</td>\n",
       "      <td>32.730</td>\n",
       "      <td>9831510.0</td>\n",
       "      <td>321774.0</td>\n",
       "      <td>55629.11</td>\n",
       "    </tr>\n",
       "  </tbody>\n",
       "</table>\n",
       "</div>"
      ],
      "text/plain": [
       "               GDP          NRI      PD       Area  Population  GDP/capita\n",
       "Year                                                                      \n",
       "1984  4.105000e+12   974.600000  24.895  9629090.0    239689.5    17059.72\n",
       "1987  4.870000e+12   997.300000  25.490  9629090.0    245425.0    19843.13\n",
       "1992  6.540000e+12  1020.000000  26.780  9629090.0    257908.0    25357.88\n",
       "1996  7.575000e+12  1005.000000  27.560  9629090.0    265395.5    28454.93\n",
       "1997  8.610000e+12   971.850000  28.340  9629090.0    272883.0    31551.98\n",
       "2002  1.100000e+13   938.700000  29.950  9632030.0    288471.0    38132.08\n",
       "2007  1.450000e+13   971.878571  31.320  9632030.0    301656.0    48068.00\n",
       "2012  1.620000e+13   971.878571  32.020  9831510.0    314799.0    51461.41\n",
       "2014  1.705000e+13   971.878571  32.375  9831510.0    318286.5    53545.26\n",
       "2015  1.790000e+13   971.878571  32.730  9831510.0    321774.0    55629.11"
      ]
     },
     "execution_count": 79,
     "metadata": {},
     "output_type": "execute_result"
    }
   ],
   "source": [
    "df_us['Area'].fillna(method = 'ffill', inplace = True)\n",
    "df_us.tail(10)"
   ]
  },
  {
   "cell_type": "code",
   "execution_count": 80,
   "metadata": {
    "collapsed": false
   },
   "outputs": [
    {
     "data": {
      "image/png": "[encoded data removed]",
      "text/plain": [
       "<matplotlib.figure.Figure at 0x10f025110>"
      ]
     },
     "metadata": {},
     "output_type": "display_data"
    }
   ],
   "source": [
    "plt.scatter(df_us.index.values, df_us['NRI'])\n",
    "plt.xlabel('Year')\n",
    "plt.ylabel('NRI')\n",
    "plt.show()"
   ]
  },
  {
   "cell_type": "code",
   "execution_count": 81,
   "metadata": {
    "collapsed": false
   },
   "outputs": [
    {
     "data": {
      "text/html": [
       "<div>\n",
       "<table border=\"1\" class=\"dataframe\">\n",
       "  <thead>\n",
       "    <tr style=\"text-align: right;\">\n",
       "      <th></th>\n",
       "      <th>GDP</th>\n",
       "      <th>NRI</th>\n",
       "      <th>PD</th>\n",
       "      <th>Area</th>\n",
       "      <th>Population</th>\n",
       "      <th>GDP/capita</th>\n",
       "    </tr>\n",
       "    <tr>\n",
       "      <th>Year</th>\n",
       "      <th></th>\n",
       "      <th></th>\n",
       "      <th></th>\n",
       "      <th></th>\n",
       "      <th></th>\n",
       "      <th></th>\n",
       "    </tr>\n",
       "  </thead>\n",
       "  <tbody>\n",
       "    <tr>\n",
       "      <th>1962</th>\n",
       "      <td>-0.338511</td>\n",
       "      <td>3.727437e-15</td>\n",
       "      <td>-0.460835</td>\n",
       "      <td>-0.159424</td>\n",
       "      <td>-0.445520</td>\n",
       "      <td>-0.375653</td>\n",
       "    </tr>\n",
       "    <tr>\n",
       "      <th>1965</th>\n",
       "      <td>-0.331081</td>\n",
       "      <td>-4.740827e-01</td>\n",
       "      <td>-0.412788</td>\n",
       "      <td>-0.159424</td>\n",
       "      <td>-0.399905</td>\n",
       "      <td>-0.365380</td>\n",
       "    </tr>\n",
       "    <tr>\n",
       "      <th>1967</th>\n",
       "      <td>-0.323651</td>\n",
       "      <td>-3.445746e-01</td>\n",
       "      <td>-0.364741</td>\n",
       "      <td>-0.159424</td>\n",
       "      <td>-0.354290</td>\n",
       "      <td>-0.355108</td>\n",
       "    </tr>\n",
       "    <tr>\n",
       "      <th>1969</th>\n",
       "      <td>-0.311567</td>\n",
       "      <td>-2.150664e-01</td>\n",
       "      <td>-0.326460</td>\n",
       "      <td>-0.159424</td>\n",
       "      <td>-0.317700</td>\n",
       "      <td>-0.338226</td>\n",
       "    </tr>\n",
       "    <tr>\n",
       "      <th>1972</th>\n",
       "      <td>-0.299483</td>\n",
       "      <td>8.985168e-02</td>\n",
       "      <td>-0.288178</td>\n",
       "      <td>-0.159424</td>\n",
       "      <td>-0.281110</td>\n",
       "      <td>-0.321345</td>\n",
       "    </tr>\n",
       "  </tbody>\n",
       "</table>\n",
       "</div>"
      ],
      "text/plain": [
       "           GDP           NRI        PD      Area  Population  GDP/capita\n",
       "Year                                                                    \n",
       "1962 -0.338511  3.727437e-15 -0.460835 -0.159424   -0.445520   -0.375653\n",
       "1965 -0.331081 -4.740827e-01 -0.412788 -0.159424   -0.399905   -0.365380\n",
       "1967 -0.323651 -3.445746e-01 -0.364741 -0.159424   -0.354290   -0.355108\n",
       "1969 -0.311567 -2.150664e-01 -0.326460 -0.159424   -0.317700   -0.338226\n",
       "1972 -0.299483  8.985168e-02 -0.288178 -0.159424   -0.281110   -0.321345"
      ]
     },
     "execution_count": 81,
     "metadata": {},
     "output_type": "execute_result"
    }
   ],
   "source": [
    "df_normal = df_us\n",
    "for col in df_normal.columns:\n",
    "    df_normal[col] = (df_normal[col] - (df_normal[col].mean()))/(df_normal[col].max()-df_normal[col].min())\n",
    "df_normal.head()"
   ]
  },
  {
   "cell_type": "markdown",
   "metadata": {},
   "source": [
    "# Extra credit 2: Pivot Table\n",
    "\n",
    "** Note! For this question, reuse the original `df` DataFrame object created in Q2 **\n",
    "\n",
    "* 1: A pivot table is a multiindexed table, as you can see below. The two indices are 'Country' and 'Year'. Use pandas method **`pivot_table`** on your DataFrame, and specify the multi-level `index=['Area','Year']` and `columns='Variable Name'`. See [http://pandas.pydata.org/pandas-docs/stable/10min.html#pivot-tables](http://pandas.pydata.org/pandas-docs/stable/10min.html#pivot-tables)       (**Note:** Don't assign the argument `values=**arg**`, anything). Store the pivot table as `df`.\n",
    "\n",
    "\n",
    "* 2: Drop the 'Value' index-level of the pivoted DataFrame by running `df = df.xs('Value', axis=1, drop_level=True)`\n",
    "\n",
    "\n",
    "* 3: Rename the 'Area' column indicating country name to 'Country' using: `df.index.rename(names=['Country','Year'],inplace=True)`\n",
    "\n",
    "* 4: Rename the index 'United States of America' to 'USA'. (Hint: Try using the `df.rename(index={**key:value**},inplace=True)` method)\n",
    "\n",
    "\n",
    "** And as in the US example: **\n",
    "\n",
    "\n",
    "* 5: Rename the columns to `['GDP','NRI','PD','Area','Population']`.\n",
    "\n",
    "* 6: Multiply the Area for all countries by 10 (so instead of 10 ha, the unit becomes 100 ha = 1km^2)\n",
    "\n",
    "\n",
    "Print `df.tail()`, it should look like:\n",
    "\n",
    "<img src=\"https://www.dropbox.com/s/nckchy6bvtczsrs/h3.1.df_tail_2.png?dl=1&1\" width=\"600\" height=\"200\" />"
   ]
  },
  {
   "cell_type": "code",
   "execution_count": 82,
   "metadata": {
    "collapsed": false
   },
   "outputs": [],
   "source": [
    "df = df.pivot_table(index=['Area','Year'], columns = 'Variable Name')"
   ]
  },
  {
   "cell_type": "code",
   "execution_count": 83,
   "metadata": {
    "collapsed": true
   },
   "outputs": [],
   "source": [
    "df = df.xs('Value', axis = 1, drop_level = True)"
   ]
  },
  {
   "cell_type": "code",
   "execution_count": 84,
   "metadata": {
    "collapsed": true
   },
   "outputs": [],
   "source": [
    "df.index.rename(names=['Country', 'Year'], inplace = True)"
   ]
  },
  {
   "cell_type": "code",
   "execution_count": 85,
   "metadata": {
    "collapsed": true
   },
   "outputs": [],
   "source": [
    "df.rename(index={'United States of America':'USA'}, inplace = True)"
   ]
  },
  {
   "cell_type": "code",
   "execution_count": 86,
   "metadata": {
    "collapsed": true
   },
   "outputs": [],
   "source": [
    "df.columns = ['GDP','NRI','PD','Area','Population']"
   ]
  },
  {
   "cell_type": "code",
   "execution_count": 87,
   "metadata": {
    "collapsed": true
   },
   "outputs": [],
   "source": [
    "df['Area'] = df['Area']*10"
   ]
  },
  {
   "cell_type": "code",
   "execution_count": 88,
   "metadata": {
    "collapsed": false
   },
   "outputs": [
    {
     "data": {
      "text/html": [
       "<div>\n",
       "<table border=\"1\" class=\"dataframe\">\n",
       "  <thead>\n",
       "    <tr style=\"text-align: right;\">\n",
       "      <th></th>\n",
       "      <th></th>\n",
       "      <th>GDP</th>\n",
       "      <th>NRI</th>\n",
       "      <th>PD</th>\n",
       "      <th>Area</th>\n",
       "      <th>Population</th>\n",
       "    </tr>\n",
       "    <tr>\n",
       "      <th>Country</th>\n",
       "      <th>Year</th>\n",
       "      <th></th>\n",
       "      <th></th>\n",
       "      <th></th>\n",
       "      <th></th>\n",
       "      <th></th>\n",
       "    </tr>\n",
       "  </thead>\n",
       "  <tbody>\n",
       "    <tr>\n",
       "      <th rowspan=\"5\" valign=\"top\">USA</th>\n",
       "      <th>2002</th>\n",
       "      <td>1.100000e+13</td>\n",
       "      <td>938.7</td>\n",
       "      <td>29.95</td>\n",
       "      <td>9632030.0</td>\n",
       "      <td>288471.0</td>\n",
       "    </tr>\n",
       "    <tr>\n",
       "      <th>2007</th>\n",
       "      <td>1.450000e+13</td>\n",
       "      <td>NaN</td>\n",
       "      <td>31.32</td>\n",
       "      <td>9632030.0</td>\n",
       "      <td>301656.0</td>\n",
       "    </tr>\n",
       "    <tr>\n",
       "      <th>2012</th>\n",
       "      <td>1.620000e+13</td>\n",
       "      <td>NaN</td>\n",
       "      <td>32.02</td>\n",
       "      <td>9831510.0</td>\n",
       "      <td>314799.0</td>\n",
       "    </tr>\n",
       "    <tr>\n",
       "      <th>2014</th>\n",
       "      <td>NaN</td>\n",
       "      <td>NaN</td>\n",
       "      <td>NaN</td>\n",
       "      <td>9831510.0</td>\n",
       "      <td>NaN</td>\n",
       "    </tr>\n",
       "    <tr>\n",
       "      <th>2015</th>\n",
       "      <td>1.790000e+13</td>\n",
       "      <td>NaN</td>\n",
       "      <td>32.73</td>\n",
       "      <td>NaN</td>\n",
       "      <td>321774.0</td>\n",
       "    </tr>\n",
       "  </tbody>\n",
       "</table>\n",
       "</div>"
      ],
      "text/plain": [
       "                       GDP    NRI     PD       Area  Population\n",
       "Country Year                                                   \n",
       "USA     2002  1.100000e+13  938.7  29.95  9632030.0    288471.0\n",
       "        2007  1.450000e+13    NaN  31.32  9632030.0    301656.0\n",
       "        2012  1.620000e+13    NaN  32.02  9831510.0    314799.0\n",
       "        2014           NaN    NaN    NaN  9831510.0         NaN\n",
       "        2015  1.790000e+13    NaN  32.73        NaN    321774.0"
      ]
     },
     "execution_count": 88,
     "metadata": {},
     "output_type": "execute_result"
    }
   ],
   "source": [
    "df.tail()"
   ]
  },
  {
   "cell_type": "code",
   "execution_count": null,
   "metadata": {
    "collapsed": true
   },
   "outputs": [],
   "source": []
  }
 ],
 "metadata": {
  "anaconda-cloud": {},
  "kernelspec": {
   "display_name": "Python 2",
   "language": "python",
   "name": "python2"
  },
  "language_info": {
   "codemirror_mode": {
    "name": "ipython",
    "version": 2
   },
   "file_extension": ".py",
   "mimetype": "text/x-python",
   "name": "python",
   "nbconvert_exporter": "python",
   "pygments_lexer": "ipython2",
   "version": "2.7.12"
  }
 },
 "nbformat": 4,
 "nbformat_minor": 1
}
