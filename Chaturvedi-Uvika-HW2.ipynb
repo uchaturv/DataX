{
 "cells": [
  {
   "cell_type": "markdown",
   "metadata": {},
   "source": [
    "## Data-X (IEOR 290): HW 1\n",
    "\n",
    "### Uvika Chaturvedi\n",
    "\n",
    "#### SID: 3032162420"
   ]
  },
  {
   "cell_type": "markdown",
   "metadata": {},
   "source": [
    "# Problem 1"
   ]
  },
  {
   "cell_type": "code",
   "execution_count": 53,
   "metadata": {
    "collapsed": true
   },
   "outputs": [],
   "source": [
    "#importing libraries\n",
    "import numpy as np"
   ]
  },
  {
   "cell_type": "code",
   "execution_count": 22,
   "metadata": {
    "collapsed": false
   },
   "outputs": [],
   "source": [
    "#Creating two numpy arrays\n",
    "a = np.arange(10,20)\n",
    "b = np.linspace(1, 7, num=10)"
   ]
  },
  {
   "cell_type": "code",
   "execution_count": 54,
   "metadata": {
    "collapsed": false
   },
   "outputs": [],
   "source": [
    "#Squaring all the elements\n",
    "a_squared = np.square(a)\n",
    "b_squared = np.square(b)\n",
    "\n",
    "#Adding the squared arrays\n",
    "summation = a_squared + b_squared\n",
    "\n",
    "#Sum of even elements\n",
    "sum_even_elements = sum(summation[::2])\n",
    "\n",
    "#Square root of the added array\n",
    "square_root = np.sqrt(summation)\n"
   ]
  },
  {
   "cell_type": "code",
   "execution_count": 31,
   "metadata": {
    "collapsed": false
   },
   "outputs": [
    {
     "data": {
      "text/plain": [
       "array([[ 10.        ,  11.        ,  12.        ,  13.        ],\n",
       "       [ 14.        ,  15.        ,  16.        ,  17.        ],\n",
       "       [ 18.        ,  19.        ,   1.        ,   1.66666667],\n",
       "       [  2.33333333,   3.        ,   3.66666667,   4.33333333],\n",
       "       [  5.        ,   5.66666667,   6.33333333,   7.        ]])"
      ]
     },
     "execution_count": 31,
     "metadata": {},
     "output_type": "execute_result"
    }
   ],
   "source": [
    "#Printing the appended matrix (m)\n",
    "m = np.append(a,b).reshape(5,4)\n",
    "m"
   ]
  },
  {
   "cell_type": "code",
   "execution_count": 38,
   "metadata": {
    "collapsed": false
   },
   "outputs": [
    {
     "data": {
      "text/plain": [
       "array([[ 11.        ,  12.        ],\n",
       "       [ 15.        ,  16.        ],\n",
       "       [ 19.        ,   1.        ],\n",
       "       [  3.        ,   3.66666667],\n",
       "       [  5.66666667,   6.33333333]])"
      ]
     },
     "execution_count": 38,
     "metadata": {},
     "output_type": "execute_result"
    }
   ],
   "source": [
    "#Print the second and third column of the m matrix (m2)\n",
    "m2 = m[:,1:3]\n",
    "m2"
   ]
  },
  {
   "cell_type": "code",
   "execution_count": 39,
   "metadata": {
    "collapsed": false
   },
   "outputs": [
    {
     "data": {
      "text/plain": [
       "array([[ 697.33333333,  748.11111111,  437.88888889,  482.33333333],\n",
       "       [ 402.22222222,  437.88888889,  454.55555556,  489.88888889]])"
      ]
     },
     "execution_count": 39,
     "metadata": {},
     "output_type": "execute_result"
    }
   ],
   "source": [
    "# Printing the dot product of transpose of m2 and m (m3)\n",
    "m3 = np.dot(np.transpose(m2),m)\n",
    "m3"
   ]
  },
  {
   "cell_type": "code",
   "execution_count": 40,
   "metadata": {
    "collapsed": false
   },
   "outputs": [
    {
     "data": {
      "text/plain": [
       "array([[ 697.33,  748.11,  437.89,  482.33],\n",
       "       [ 402.22,  437.89,  454.56,  489.89]])"
      ]
     },
     "execution_count": 40,
     "metadata": {},
     "output_type": "execute_result"
    }
   ],
   "source": [
    "#Rounding the elements of m3 to 2 decimal places\n",
    "m3 = np.around(m3,decimals = 2)\n",
    "m3"
   ]
  },
  {
   "cell_type": "code",
   "execution_count": 52,
   "metadata": {
    "collapsed": false
   },
   "outputs": [
    {
     "data": {
      "text/plain": [
       "array([[ 748.11,  697.33,  489.89,  482.33],\n",
       "       [ 454.56,  437.89,  437.89,  402.22]])"
      ]
     },
     "execution_count": 52,
     "metadata": {},
     "output_type": "execute_result"
    }
   ],
   "source": [
    "#Sorting m3 into descending order\n",
    "m3 = np.sort(m3,axis = -1)[::-1].reshape(2,4)\n",
    "m3"
   ]
  }
 ],
 "metadata": {
  "anaconda-cloud": {},
  "kernelspec": {
   "display_name": "Python 2",
   "language": "python",
   "name": "python2"
  },
  "language_info": {
   "codemirror_mode": {
    "name": "ipython",
    "version": 2
   },
   "file_extension": ".py",
   "mimetype": "text/x-python",
   "name": "python",
   "nbconvert_exporter": "python",
   "pygments_lexer": "ipython2",
   "version": "2.7.12"
  }
 },
 "nbformat": 4,
 "nbformat_minor": 1
}
